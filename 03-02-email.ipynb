{
 "cells": [
  {
   "cell_type": "code",
   "execution_count": 1,
   "metadata": {},
   "outputs": [],
   "source": [
    "import matplotlib.pyplot as plt\n",
    "import numpy as np\n",
    "import random\n",
    "import math\n"
   ]
  },
  {
   "cell_type": "code",
   "execution_count": 6,
   "metadata": {},
   "outputs": [
    {
     "name": "stdout",
     "output_type": "stream",
     "text": [
      "yj1 is [0.         0.01234568 0.04938272 0.11111111 0.19753086 0.30864198\n",
      " 0.44444444 0.60493827 0.79012346 1.        ]\n",
      "yj2 is [1.         1.2345679  1.49382716 1.77777778 2.08641975 2.41975309\n",
      " 2.77777778 3.16049383 3.56790123 4.        ]\n"
     ]
    },
    {
     "data": {
      "image/png": "[encoded data removed]",
      "text/plain": [
       "<Figure size 432x288 with 1 Axes>"
      ]
     },
     "metadata": {
      "needs_background": "light"
     },
     "output_type": "display_data"
    },
    {
     "name": "stdout",
     "output_type": "stream",
     "text": [
      "number of acepted answers for 1 round is 4\n"
     ]
    }
   ],
   "source": [
    "import numpy as np\n",
    "listf1 = [] #for inside curve\n",
    "listf2 = [] #for outside curve\n",
    "xj1 = np.linspace(0,1,10)   #ranges are (0,1), (1,2), (0,inf)\n",
    "xj2 = np.linspace(1,2,10)\n",
    "yj1 = xj1**2\n",
    "yj2 = xj2**2\n",
    "print(\"yj1 is\", yj1)\n",
    "print(\"yj2 is\", yj2)\n",
    " #find an element in yj array\n",
    "#print(\"first yj is\",yj[0])\n",
    "#for j,val in enumerate(yj):     #WORKS!! ITERATE THROUGH yj\n",
    "    #print(\"j is\", j)\n",
    "    #print(\"val is\", val)\n",
    "c = 0  #countig number of accepted answers\n",
    "for i in range(10):\n",
    "    fj = random.uniform(0,0.5)\n",
    "    #listf.append(fj)\n",
    "    #if f <= yj, then graph o inside curve\n",
    "    if fj <= yj1[i]: #inside curve NUMBER OF ACCEPTED ANSWERS\n",
    "        c = c+1\n",
    "        listf1.append(fj)\n",
    "    else:    #outside curve, graph x\n",
    "        c = c\n",
    "        listf2.append(fj)\n",
    "        \n",
    "plt.plot(xj,yj1)    \n",
    "plt.plot(listf1, 'o')\n",
    "plt.plot(listf2, 'x')\n",
    "plt.show()\n",
    "\n",
    "print(\"number of acepted answers for 1 round is\", c)\n",
    "#use for loop to run any times"
   ]
  },
  {
   "cell_type": "code",
   "execution_count": 41,
   "metadata": {},
   "outputs": [
    {
     "name": "stdout",
     "output_type": "stream",
     "text": [
      "36\n"
     ]
    }
   ],
   "source": [
    "#write function to calculate max later\n",
    "m = 100\n",
    "\n",
    "\n",
    "def funct(x):\n",
    "    return (x**2)/100\n",
    "#print(funct(2))   #works\n",
    "c = 0\n",
    "for i in range(100):\n",
    "    r = random.uniform(0,10)\n",
    "    f = funct(r) #should be between 0,1\n",
    "    s = random.random() #generates float\n",
    "    if s < f:\n",
    "        c = c+1\n",
    "    else:\n",
    "        c = c\n",
    "print(c)\n",
    "\n",
    "    \n",
    "    \n",
    "    \n",
    "    "
   ]
  },
  {
   "cell_type": "code",
   "execution_count": null,
   "metadata": {},
   "outputs": [],
   "source": []
  },
  {
   "cell_type": "code",
   "execution_count": null,
   "metadata": {},
   "outputs": [],
   "source": []
  }
 ],
 "metadata": {
  "kernelspec": {
   "display_name": "Python 3",
   "language": "python",
   "name": "python3"
  },
  "language_info": {
   "codemirror_mode": {
    "name": "ipython",
    "version": 3
   },
   "file_extension": ".py",
   "mimetype": "text/x-python",
   "name": "python",
   "nbconvert_exporter": "python",
   "pygments_lexer": "ipython3",
   "version": "3.7.1"
  }
 },
 "nbformat": 4,
 "nbformat_minor": 2
}
